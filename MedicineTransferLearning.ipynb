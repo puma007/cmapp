{
 "cells": [
  {
   "cell_type": "code",
   "execution_count": 0,
   "metadata": {
    "id": "MP_24u09U7hQ",
    "colab_type": "code",
    "colab": {}
   },
   "outputs": [],
   "source": [
    "from keras.applications.resnet50 import ResNet50\n",
    "from keras.preprocessing import image\n",
    "from keras.models import Model\n",
    "from keras.layers import Dense, GlobalAveragePooling2D\n",
    "from keras import backend as K\n",
    "from keras.applications.resnet50 import preprocess_input, decode_predictions"
   ]
  },
  {
   "cell_type": "code",
   "execution_count": 5,
   "metadata": {
    "id": "QmZd84uYVcE_",
    "colab_type": "code",
    "outputId": "5c962eb9-c9bb-4ba4-f6f4-d3df58314dee",
    "executionInfo": {
     "status": "ok",
     "timestamp": 1.555300742983E12,
     "user_tz": -480.0,
     "elapsed": 14448.0,
     "user": {
      "displayName": "J.L H",
      "photoUrl": "https://lh5.googleusercontent.com/-BRX5TWuOHpE/AAAAAAAAAAI/AAAAAAAAAD0/SzepdPSA1LY/s64/photo.jpg",
      "userId": "14158868708361974289"
     }
    },
    "colab": {
     "base_uri": "https://localhost:8080/",
     "height": 105.0
    }
   },
   "outputs": [
    {
     "name": "stderr",
     "output_type": "stream",
     "text": [
      "/usr/local/lib/python3.6/dist-packages/keras_applications/resnet50.py:265: UserWarning: The output shape of `ResNet50(include_top=False)` has been changed since Keras 2.2.0.\n",
      "  warnings.warn('The output shape of `ResNet50(include_top=False)` '\n"
     ]
    },
    {
     "name": "stdout",
     "output_type": "stream",
     "text": [
      "Downloading data from https://github.com/fchollet/deep-learning-models/releases/download/v0.2/resnet50_weights_tf_dim_ordering_tf_kernels_notop.h5\n",
      "94658560/94653016 [==============================] - 1s 0us/step\n"
     ]
    }
   ],
   "source": [
    "# 构建不带分类器的预训练模型\n",
    "base_model = ResNet50(weights='imagenet', include_top=False)"
   ]
  },
  {
   "cell_type": "code",
   "execution_count": 6,
   "metadata": {
    "id": "4K48bKYfV6o6",
    "colab_type": "code",
    "outputId": "6ac0be65-4fb4-47cc-9a97-8175f5760e55",
    "executionInfo": {
     "status": "ok",
     "timestamp": 1.555300751485E12,
     "user_tz": -480.0,
     "elapsed": 5501.0,
     "user": {
      "displayName": "J.L H",
      "photoUrl": "https://lh5.googleusercontent.com/-BRX5TWuOHpE/AAAAAAAAAAI/AAAAAAAAAD0/SzepdPSA1LY/s64/photo.jpg",
      "userId": "14158868708361974289"
     }
    },
    "colab": {
     "base_uri": "https://localhost:8080/",
     "height": 34.0
    }
   },
   "outputs": [
    {
     "name": "stdout",
     "output_type": "stream",
     "text": [
      "resnet50_weights_tf_dim_ordering_tf_kernels_notop.h5\n"
     ]
    }
   ],
   "source": [
    "!ls ~/.keras/models"
   ]
  },
  {
   "cell_type": "code",
   "execution_count": 2,
   "metadata": {
    "id": "y3Oz5X9HWCzf",
    "colab_type": "code",
    "outputId": "d7605d4e-274e-4d31-ee9e-0fbcddac8263",
    "executionInfo": {
     "status": "ok",
     "timestamp": 1.555300646222E12,
     "user_tz": -480.0,
     "elapsed": 27263.0,
     "user": {
      "displayName": "J.L H",
      "photoUrl": "https://lh5.googleusercontent.com/-BRX5TWuOHpE/AAAAAAAAAAI/AAAAAAAAAD0/SzepdPSA1LY/s64/photo.jpg",
      "userId": "14158868708361974289"
     }
    },
    "colab": {
     "base_uri": "https://localhost:8080/",
     "height": 122.0
    },
    "collapsed": false
   },
   "outputs": [
    {
     "name": "stdout",
     "output_type": "stream",
     "text": [
      "Go to this URL in a browser: https://accounts.google.com/o/oauth2/auth?client_id=947318989803-6bn6qk8qdgf4n4g3pfee6491hc0brc4i.apps.googleusercontent.com&redirect_uri=urn%3Aietf%3Awg%3Aoauth%3A2.0%3Aoob&scope=email%20https%3A%2F%2Fwww.googleapis.com%2Fauth%2Fdocs.test%20https%3A%2F%2Fwww.googleapis.com%2Fauth%2Fdrive%20https%3A%2F%2Fwww.googleapis.com%2Fauth%2Fdrive.photos.readonly%20https%3A%2F%2Fwww.googleapis.com%2Fauth%2Fpeopleapi.readonly&response_type=code\n",
      "\n",
      "Enter your authorization code:\n",
      "··········\n",
      "Mounted at /content/gdrive\n"
     ]
    }
   ],
   "source": [
    "from google.colab import drive\n",
    "drive.mount('/content/gdrive', force_remount=True)\n",
    "root_dir = \"/content/gdrive/My Drive/\"\n",
    "base_dir = root_dir + 'data/medicine/'\n",
    "TRAIN_DIR = base_dir + 'train/'\n",
    "VAL_DIR = base_dir + 'test/'"
   ]
  },
  {
   "cell_type": "code",
   "execution_count": 7,
   "metadata": {
    "id": "qxsazmdkWPxI",
    "colab_type": "code",
    "outputId": "8d03978c-7f20-4499-8640-1f68a0c192fa",
    "executionInfo": {
     "status": "ok",
     "timestamp": 1.555300759282E12,
     "user_tz": -480.0,
     "elapsed": 2291.0,
     "user": {
      "displayName": "J.L H",
      "photoUrl": "https://lh5.googleusercontent.com/-BRX5TWuOHpE/AAAAAAAAAAI/AAAAAAAAAD0/SzepdPSA1LY/s64/photo.jpg",
      "userId": "14158868708361974289"
     }
    },
    "colab": {
     "base_uri": "https://localhost:8080/",
     "height": 34.0
    }
   },
   "outputs": [
    {
     "name": "stdout",
     "output_type": "stream",
     "text": [
      "Found 362 images belonging to 3 classes.\n"
     ]
    }
   ],
   "source": [
    "IMG_W,IMG_H =224,224 # 单张图片的大小\n",
    "BATCH_SIZE = 16\n",
    "# 2，准备训练集，keras有很多Generator可以直接处理图片的加载，增强等操作，封装的非常好\n",
    "from keras.preprocessing.image import ImageDataGenerator\n",
    "train_datagen = ImageDataGenerator( # 单张图片的处理方式，train时一般都会进行图片增强\n",
    "        rescale=1. / 255, # 图片像素值为0-255，此处都乘以1/255，调整到0-1之间\n",
    "        shear_range=0.2, # 斜切\n",
    "        zoom_range=0.2, # 放大缩小范围\n",
    "        horizontal_flip=True) # 水平翻转\n",
    "\n",
    "train_generator = train_datagen.flow_from_directory(# 从文件夹中产生数据流\n",
    "    TRAIN_DIR, # 训练集图片的文件夹\n",
    "    target_size=(IMG_W, IMG_H), # 调整后每张图片的大小\n",
    "    batch_size=BATCH_SIZE,\n",
    "    class_mode='categorical') # 此处是多分类问题，故而mode是categorical\n"
   ]
  },
  {
   "cell_type": "code",
   "execution_count": 8,
   "metadata": {
    "id": "dYI4Gf47W65F",
    "colab_type": "code",
    "outputId": "b7376068-fb47-42db-a725-98bbfa26ca87",
    "executionInfo": {
     "status": "ok",
     "timestamp": 1.555300763573E12,
     "user_tz": -480.0,
     "elapsed": 1135.0,
     "user": {
      "displayName": "J.L H",
      "photoUrl": "https://lh5.googleusercontent.com/-BRX5TWuOHpE/AAAAAAAAAAI/AAAAAAAAAD0/SzepdPSA1LY/s64/photo.jpg",
      "userId": "14158868708361974289"
     }
    },
    "colab": {
     "base_uri": "https://localhost:8080/",
     "height": 34.0
    }
   },
   "outputs": [
    {
     "name": "stdout",
     "output_type": "stream",
     "text": [
      "Found 84 images belonging to 3 classes.\n"
     ]
    }
   ],
   "source": [
    "# 3，同样的方式准备测试集\n",
    "val_datagen = ImageDataGenerator(rescale=1. / 255) # 只需要和trainset同样的scale即可，不需增强\n",
    "val_generator = val_datagen.flow_from_directory(\n",
    "        VAL_DIR,\n",
    "        target_size=(IMG_W, IMG_H),\n",
    "        batch_size=BATCH_SIZE,\n",
    "        class_mode='categorical')"
   ]
  },
  {
   "cell_type": "code",
   "execution_count": 9,
   "metadata": {
    "id": "z_6vq-MSYdsJ",
    "colab_type": "code",
    "outputId": "d06804ea-6147-4671-b663-9d6f794269ab",
    "executionInfo": {
     "status": "ok",
     "timestamp": 1.555300770942E12,
     "user_tz": -480.0,
     "elapsed": 1035.0,
     "user": {
      "displayName": "J.L H",
      "photoUrl": "https://lh5.googleusercontent.com/-BRX5TWuOHpE/AAAAAAAAAAI/AAAAAAAAAD0/SzepdPSA1LY/s64/photo.jpg",
      "userId": "14158868708361974289"
     }
    },
    "colab": {
     "base_uri": "https://localhost:8080/",
     "height": 51.0
    }
   },
   "outputs": [
    {
     "name": "stdout",
     "output_type": "stream",
     "text": [
      "3\n",
      "{'枸杞子': 0, '白术 ': 1, '茯苓': 2}\n"
     ]
    }
   ],
   "source": [
    "#统计分类数\n",
    "num_classes = len(train_generator.class_indices)\n",
    "class_dictionary = train_generator.class_indices\n",
    "print(num_classes)\n",
    "print(class_dictionary)"
   ]
  },
  {
   "cell_type": "code",
   "execution_count": 0,
   "metadata": {
    "id": "s6UpPcIjYheB",
    "colab_type": "code",
    "colab": {}
   },
   "outputs": [],
   "source": [
    "from keras import optimizers\n",
    "# 添加全局平均池化层\n",
    "x = base_model.output\n",
    "x = GlobalAveragePooling2D()(x)\n",
    "\n",
    "# 添加一个全连接层\n",
    "x = Dense(512, activation='relu')(x)\n",
    "\n",
    "# 添加一个分类器，假设我们有3个类\n",
    "predictions = Dense(3, activation='softmax')(x)\n",
    "\n",
    "# 构建我们需要训练的完整模型\n",
    "model = Model(inputs=base_model.input, outputs=predictions)\n",
    "\n",
    "# 首先，我们只训练顶部的几层（随机初始化的层）\n",
    "# 锁住所有 InceptionV3 的卷积层\n",
    "# for layer in base_model.layers:\n",
    "#     layer.trainable = False\n",
    "\n",
    "# 编译模型（一定要在锁层以后操作）\n",
    "model.compile(loss='categorical_crossentropy',\n",
    "              optimizer=optimizers.SGD(lr=1e-4, momentum=0.9),\n",
    "              metrics=['accuracy'])"
   ]
  },
  {
   "cell_type": "code",
   "execution_count": 0,
   "metadata": {
    "id": "Bb3ekHpCaZka",
    "colab_type": "code",
    "outputId": "75697658-4fbb-4788-9a69-6a80d655b8ad",
    "executionInfo": {
     "status": "ok",
     "timestamp": 1.555255365303E12,
     "user_tz": -480.0,
     "elapsed": 119683.0,
     "user": {
      "displayName": "J.L H",
      "photoUrl": "https://lh5.googleusercontent.com/-BRX5TWuOHpE/AAAAAAAAAAI/AAAAAAAAAD0/SzepdPSA1LY/s64/photo.jpg",
      "userId": "14158868708361974289"
     }
    },
    "colab": {
     "base_uri": "https://localhost:8080/",
     "height": 411.0
    }
   },
   "outputs": [
    {
     "name": "stdout",
     "output_type": "stream",
     "text": [
      "Epoch 1/10\n"
     ]
    },
    {
     "name": "stderr",
     "output_type": "stream",
     "text": [
      "/usr/local/lib/python3.6/dist-packages/PIL/Image.py:914: UserWarning: Palette images with Transparency   expressed in bytes should be converted to RGBA images\n",
      "  'to RGBA images')\n"
     ]
    },
    {
     "name": "stdout",
     "output_type": "stream",
     "text": [
      "22/22 [==============================] - 12s 552ms/step - loss: 0.2469 - acc: 0.9643 - val_loss: 0.2140 - val_acc: 0.9265\n",
      "Epoch 2/10\n",
      "22/22 [==============================] - 12s 531ms/step - loss: 0.1807 - acc: 0.9813 - val_loss: 0.1931 - val_acc: 0.9706\n",
      "Epoch 3/10\n",
      "22/22 [==============================] - 12s 534ms/step - loss: 0.1827 - acc: 0.9744 - val_loss: 0.1512 - val_acc: 0.9559\n",
      "Epoch 4/10\n",
      "22/22 [==============================] - 12s 529ms/step - loss: 0.1506 - acc: 0.9829 - val_loss: 0.1515 - val_acc: 0.9706\n",
      "Epoch 5/10\n",
      "22/22 [==============================] - 12s 553ms/step - loss: 0.1269 - acc: 0.9886 - val_loss: 0.1375 - val_acc: 0.9750\n",
      "Epoch 6/10\n",
      "22/22 [==============================] - 12s 526ms/step - loss: 0.1260 - acc: 0.9825 - val_loss: 0.1171 - val_acc: 0.9853\n",
      "Epoch 7/10\n",
      "22/22 [==============================] - 12s 543ms/step - loss: 0.1058 - acc: 0.9886 - val_loss: 0.1263 - val_acc: 0.9559\n",
      "Epoch 8/10\n",
      "22/22 [==============================] - 12s 551ms/step - loss: 0.0951 - acc: 0.9825 - val_loss: 0.0899 - val_acc: 0.9853\n",
      "Epoch 9/10\n",
      "22/22 [==============================] - 11s 518ms/step - loss: 0.0837 - acc: 0.9886 - val_loss: 0.0936 - val_acc: 0.9853\n",
      "Epoch 10/10\n",
      "22/22 [==============================] - 12s 538ms/step - loss: 0.1098 - acc: 0.9773 - val_loss: 0.1112 - val_acc: 0.9706\n"
     ]
    }
   ],
   "source": [
    "# 模型的训练\n",
    "NUM_EPOCHS = 10\n",
    "BATCH_SIZE = 16\n",
    "num_train_images = 362\n",
    "num_val_images = 84\n",
    "history_1 = model.fit_generator(train_generator, # 数据流\n",
    "                        steps_per_epoch=num_train_images // BATCH_SIZE, \n",
    "                        epochs=NUM_EPOCHS,\n",
    "                        shuffle = True, \n",
    "                        verbose = 1, \n",
    "                        validation_data=val_generator,\n",
    "                        validation_steps=num_val_images // BATCH_SIZE)"
   ]
  },
  {
   "cell_type": "code",
   "execution_count": 0,
   "metadata": {
    "id": "Da4HzFercfAd",
    "colab_type": "code",
    "colab": {}
   },
   "outputs": [],
   "source": [
    "# 画图，将训练时的acc和loss都绘制到图上\n",
    "import matplotlib.pyplot as plt\n",
    "\n",
    "%matplotlib inline\n",
    "\n",
    "def plot_training(history):\n",
    "    plt.figure(figsize=(8, 8))\n",
    "    plt.subplot(2, 1, 1)\n",
    "    train_acc = history.history['acc']\n",
    "    val_acc = history.history['val_acc']\n",
    "    #epochs = range(len(train_acc))\n",
    "    plt.plot(train_acc,label='Training Accuracy')\n",
    "    plt.plot(val_acc,label='Validation Accuracy')\n",
    "    plt.legend(loc='lower right')\n",
    "    plt.ylabel('Accuracy')\n",
    "    plt.xlabel('epoch')\n",
    "    plt.title('Training and Validation Accuracy')\n",
    "    \n",
    "    plt.subplot(2, 1, 2)\n",
    "    train_loss = history.history['loss']\n",
    "    val_loss = history.history['val_loss']\n",
    "    #epochs = range(len(train_loss))\n",
    "    plt.plot(train_loss, label='Training Loss')\n",
    "    plt.plot(val_loss, label='Validation Loss')\n",
    "    plt.legend(loc='upper right')\n",
    "    plt.ylabel('Cross Entropy')\n",
    "    plt.title('Training and Validation Loss')\n",
    "    plt.xlabel('epoch')\n",
    "    plt.show()"
   ]
  },
  {
   "cell_type": "code",
   "execution_count": 0,
   "metadata": {
    "id": "Yb1zeXWbcgCy",
    "colab_type": "code",
    "outputId": "e65b8750-9839-4fee-9384-7f013cf52f98",
    "executionInfo": {
     "status": "ok",
     "timestamp": 1.555255429068E12,
     "user_tz": -480.0,
     "elapsed": 2253.0,
     "user": {
      "displayName": "J.L H",
      "photoUrl": "https://lh5.googleusercontent.com/-BRX5TWuOHpE/AAAAAAAAAAI/AAAAAAAAAD0/SzepdPSA1LY/s64/photo.jpg",
      "userId": "14158868708361974289"
     }
    },
    "colab": {
     "base_uri": "https://localhost:8080/",
     "height": 513.0
    }
   },
   "outputs": [
    {
     "data": {
      "image/png": "[encoded data removed]",
      "text/plain": [
       "<Figure size 576x576 with 2 Axes>"
      ]
     },
     "metadata": {
      "tags": []
     },
     "output_type": "display_data"
    }
   ],
   "source": [
    "plot_training(history_1)"
   ]
  },
  {
   "cell_type": "code",
   "execution_count": 0,
   "metadata": {
    "id": "6En5oYTWcrCH",
    "colab_type": "code",
    "colab": {}
   },
   "outputs": [],
   "source": [
    "model.save(base_dir + 'model/' + 'keras_medicine_tl.h5')"
   ]
  },
  {
   "cell_type": "code",
   "execution_count": 11,
   "metadata": {
    "id": "McFN4FnqIaEn",
    "colab_type": "code",
    "colab": {
     "base_uri": "https://localhost:8080/",
     "height": 136.0
    },
    "outputId": "3ecfddc5-5869-4fa3-a3f9-f81488898309",
    "executionInfo": {
     "status": "ok",
     "timestamp": 1.555300899858E12,
     "user_tz": -480.0,
     "elapsed": 36833.0,
     "user": {
      "displayName": "J.L H",
      "photoUrl": "https://lh5.googleusercontent.com/-BRX5TWuOHpE/AAAAAAAAAAI/AAAAAAAAAD0/SzepdPSA1LY/s64/photo.jpg",
      "userId": "14158868708361974289"
     }
    }
   },
   "outputs": [
    {
     "name": "stdout",
     "output_type": "stream",
     "text": [
      "[[0.68279696 0.2038744  0.11332864]]\n",
      "[INFO] classifying image...\n",
      "[0.68279696 0.2038744  0.11332864]\n",
      "0\n",
      "{'枸杞子': 0, '白术 ': 1, '茯苓': 2}\n",
      "{'枸杞子': 0, '白术': 1, '茯苓': 2}\n",
      "枸杞子\n"
     ]
    }
   ],
   "source": [
    "#预测\n",
    "import numpy as np\n",
    "\n",
    "from keras.models import load_model\n",
    "from keras.preprocessing import image\n",
    "from keras.applications.imagenet_utils import preprocess_input, decode_predictions\n",
    "#from keras.applications.inception_v3 import preprocess_input, decode_predictions\n",
    "\n",
    "#加载模型预测\n",
    "model = load_model(base_dir + 'model/' + 'keras_medicine_tl.h5')\n",
    "\n",
    "# 1.读取图片并处理（方法一）\n",
    "img_path = base_dir + 'tmp/' + 'gq.png'\n",
    "img = image.load_img(img_path, target_size=(224, 224))\n",
    "x = image.img_to_array(img)\n",
    "x /= 255.\n",
    "x = np.expand_dims(x, axis=0)\n",
    "#x = preprocess_input(x) # 使用imagenet_utils的preprocess_input方法处理图片，会导致分类错误,改为 /255\n",
    "preds = model.predict(x)\n",
    "print(preds)\n",
    "\n",
    "\n",
    "print(\"[INFO] classifying image...\")\n",
    "proba = model.predict(x)[0]\n",
    "print(proba)\n",
    "idx = np.argmax(proba)\n",
    "print(idx)\n",
    "print(train_generator.class_indices)\n",
    "print(val_generator.class_indices)\n",
    "\n",
    "inv_map = {v: k for k, v in train_generator.class_indices.items()}\n",
    "label = inv_map[idx]\n",
    "print(label)"
   ]
  }
 ],
 "metadata": {
  "colab": {
   "name": "MedicineTransferLearning.ipynb",
   "version": "0.3.2",
   "provenance": [
    {
     "file_id": "1KcFiw5A-MZI92mDvNnwCjemnAf3ySz0w",
     "timestamp": 1.555253417723E12
    }
   ],
   "collapsed_sections": []
  },
  "kernelspec": {
   "name": "python3",
   "display_name": "Python 3"
  },
  "accelerator": "GPU"
 },
 "nbformat": 4,
 "nbformat_minor": 0
}
